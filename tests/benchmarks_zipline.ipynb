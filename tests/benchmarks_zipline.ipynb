{
 "cells": [
  {
   "cell_type": "markdown",
   "metadata": {},
   "source": [
    "# Zipline Benchmarks"
   ]
  },
  {
   "cell_type": "code",
   "execution_count": 1,
   "metadata": {},
   "outputs": [
    {
     "name": "stdout",
     "output_type": "stream",
     "text": [
      "0.22.0\n"
     ]
    }
   ],
   "source": [
    "import pandas as pd\n",
    "print(pd.__version__)\n",
    "start, end = pd.Timestamp('2013-01-03', tz='UTC'), pd.Timestamp('2018-01-03', tz='UTC')\n",
    "\n",
    "from zipline.pipeline import Pipeline\n",
    "from zipline.utils.calendars import get_calendar\n",
    "from zipline.data import bundles\n",
    "from zipline.pipeline.loaders import USEquityPricingLoader\n",
    "from zipline.pipeline.data import USEquityPricing\n",
    "from zipline.pipeline.engine import SimplePipelineEngine"
   ]
  },
  {
   "cell_type": "code",
   "execution_count": 2,
   "metadata": {},
   "outputs": [],
   "source": [
    "bundle_data = bundles.load('quandl')\n",
    "zp_loader = USEquityPricingLoader(\n",
    "            bundle_data.equity_daily_bar_reader, \n",
    "            bundle_data.adjustment_reader)\n",
    "\n",
    "trading_calendar = get_calendar('NYSE') \n",
    "\n",
    "zpl_engine = SimplePipelineEngine(\n",
    "    get_loader=lambda x: zp_loader,\n",
    "    calendar=trading_calendar.all_sessions,\n",
    "    asset_finder=bundle_data.asset_finder)"
   ]
  },
  {
   "cell_type": "code",
   "execution_count": 3,
   "metadata": {},
   "outputs": [
    {
     "name": "stdout",
     "output_type": "stream",
     "text": [
      "Wall time: 3.75 s\n"
     ]
    },
    {
     "data": {
      "text/html": [
       "<div>\n",
       "<style scoped>\n",
       "    .dataframe tbody tr th:only-of-type {\n",
       "        vertical-align: middle;\n",
       "    }\n",
       "\n",
       "    .dataframe tbody tr th {\n",
       "        vertical-align: top;\n",
       "    }\n",
       "\n",
       "    .dataframe thead th {\n",
       "        text-align: right;\n",
       "    }\n",
       "</style>\n",
       "<table border=\"1\" class=\"dataframe\">\n",
       "  <thead>\n",
       "    <tr style=\"text-align: right;\">\n",
       "      <th></th>\n",
       "      <th></th>\n",
       "      <th>ma</th>\n",
       "    </tr>\n",
       "  </thead>\n",
       "  <tbody>\n",
       "    <tr>\n",
       "      <th rowspan=\"5\" valign=\"top\">2013-01-03 00:00:00+00:00</th>\n",
       "      <th>Equity(0 [A])</th>\n",
       "      <td>38.110535</td>\n",
       "    </tr>\n",
       "    <tr>\n",
       "      <th>Equity(2 [AAL])</th>\n",
       "      <td>11.776900</td>\n",
       "    </tr>\n",
       "    <tr>\n",
       "      <th>Equity(3 [AAMC])</th>\n",
       "      <td>67.738462</td>\n",
       "    </tr>\n",
       "    <tr>\n",
       "      <th>Equity(4 [AAN])</th>\n",
       "      <td>28.779516</td>\n",
       "    </tr>\n",
       "    <tr>\n",
       "      <th>Equity(6 [AAON])</th>\n",
       "      <td>19.606132</td>\n",
       "    </tr>\n",
       "    <tr>\n",
       "      <th rowspan=\"5\" valign=\"top\">2018-01-03 00:00:00+00:00</th>\n",
       "      <th>Equity(3190 [ZIXI])</th>\n",
       "      <td>4.824444</td>\n",
       "    </tr>\n",
       "    <tr>\n",
       "      <th>Equity(3194 [ZNGA])</th>\n",
       "      <td>3.831677</td>\n",
       "    </tr>\n",
       "    <tr>\n",
       "      <th>Equity(3195 [ZOES])</th>\n",
       "      <td>13.582525</td>\n",
       "    </tr>\n",
       "    <tr>\n",
       "      <th>Equity(3197 [ZTS])</th>\n",
       "      <td>66.604667</td>\n",
       "    </tr>\n",
       "    <tr>\n",
       "      <th>Equity(3198 [ZUMZ])</th>\n",
       "      <td>17.432071</td>\n",
       "    </tr>\n",
       "  </tbody>\n",
       "</table>\n",
       "</div>"
      ],
      "text/plain": [
       "                                                      ma\n",
       "2013-01-03 00:00:00+00:00 Equity(0 [A])        38.110535\n",
       "                          Equity(2 [AAL])      11.776900\n",
       "                          Equity(3 [AAMC])     67.738462\n",
       "                          Equity(4 [AAN])      28.779516\n",
       "                          Equity(6 [AAON])     19.606132\n",
       "2018-01-03 00:00:00+00:00 Equity(3190 [ZIXI])   4.824444\n",
       "                          Equity(3194 [ZNGA])   3.831677\n",
       "                          Equity(3195 [ZOES])  13.582525\n",
       "                          Equity(3197 [ZTS])   66.604667\n",
       "                          Equity(3198 [ZUMZ])  17.432071"
      ]
     },
     "execution_count": 3,
     "metadata": {},
     "output_type": "execute_result"
    }
   ],
   "source": [
    "from zipline.pipeline.factors import SimpleMovingAverage, SMA, ExponentialWeightedMovingAverage\n",
    "ma = SimpleMovingAverage(inputs=[USEquityPricing.close], window_length=100)\n",
    "pipeline = Pipeline()\n",
    "pipeline.add( ma, 'ma') \n",
    "%time dfzp=zpl_engine.run_pipeline(pipeline, start, end)\n",
    "dfzp.head(5).append(dfzp.tail(5))"
   ]
  },
  {
   "cell_type": "code",
   "execution_count": 4,
   "metadata": {},
   "outputs": [
    {
     "name": "stdout",
     "output_type": "stream",
     "text": [
      "3.21 s ± 117 ms per loop (mean ± std. dev. of 7 runs, 1 loop each)\n",
      "2.98 s ± 14.4 ms per loop (mean ± std. dev. of 10 runs, 3 loops each)\n"
     ]
    }
   ],
   "source": [
    "%timeit zpl_engine.run_pipeline(pipeline, start, end)\n",
    "%timeit -n 3 -r 10 zpl_engine.run_pipeline(pipeline, start, end)"
   ]
  },
  {
   "cell_type": "code",
   "execution_count": 5,
   "metadata": {},
   "outputs": [
    {
     "name": "stdout",
     "output_type": "stream",
     "text": [
      "Wall time: 8.85 s\n"
     ]
    },
    {
     "data": {
      "text/html": [
       "<div>\n",
       "<style scoped>\n",
       "    .dataframe tbody tr th:only-of-type {\n",
       "        vertical-align: middle;\n",
       "    }\n",
       "\n",
       "    .dataframe tbody tr th {\n",
       "        vertical-align: top;\n",
       "    }\n",
       "\n",
       "    .dataframe thead th {\n",
       "        text-align: right;\n",
       "    }\n",
       "</style>\n",
       "<table border=\"1\" class=\"dataframe\">\n",
       "  <thead>\n",
       "    <tr style=\"text-align: right;\">\n",
       "      <th></th>\n",
       "      <th></th>\n",
       "      <th>ema50</th>\n",
       "    </tr>\n",
       "  </thead>\n",
       "  <tbody>\n",
       "    <tr>\n",
       "      <th rowspan=\"5\" valign=\"top\">2013-01-03 00:00:00+00:00</th>\n",
       "      <th>Equity(0 [A])</th>\n",
       "      <td>38.896122</td>\n",
       "    </tr>\n",
       "    <tr>\n",
       "      <th>Equity(2 [AAL])</th>\n",
       "      <td>12.635515</td>\n",
       "    </tr>\n",
       "    <tr>\n",
       "      <th>Equity(3 [AAMC])</th>\n",
       "      <td>NaN</td>\n",
       "    </tr>\n",
       "    <tr>\n",
       "      <th>Equity(4 [AAN])</th>\n",
       "      <td>28.474856</td>\n",
       "    </tr>\n",
       "    <tr>\n",
       "      <th>Equity(6 [AAON])</th>\n",
       "      <td>20.191980</td>\n",
       "    </tr>\n",
       "    <tr>\n",
       "      <th rowspan=\"5\" valign=\"top\">2018-01-03 00:00:00+00:00</th>\n",
       "      <th>Equity(3190 [ZIXI])</th>\n",
       "      <td>NaN</td>\n",
       "    </tr>\n",
       "    <tr>\n",
       "      <th>Equity(3194 [ZNGA])</th>\n",
       "      <td>NaN</td>\n",
       "    </tr>\n",
       "    <tr>\n",
       "      <th>Equity(3195 [ZOES])</th>\n",
       "      <td>NaN</td>\n",
       "    </tr>\n",
       "    <tr>\n",
       "      <th>Equity(3197 [ZTS])</th>\n",
       "      <td>NaN</td>\n",
       "    </tr>\n",
       "    <tr>\n",
       "      <th>Equity(3198 [ZUMZ])</th>\n",
       "      <td>NaN</td>\n",
       "    </tr>\n",
       "  </tbody>\n",
       "</table>\n",
       "</div>"
      ],
      "text/plain": [
       "                                                   ema50\n",
       "2013-01-03 00:00:00+00:00 Equity(0 [A])        38.896122\n",
       "                          Equity(2 [AAL])      12.635515\n",
       "                          Equity(3 [AAMC])           NaN\n",
       "                          Equity(4 [AAN])      28.474856\n",
       "                          Equity(6 [AAON])     20.191980\n",
       "2018-01-03 00:00:00+00:00 Equity(3190 [ZIXI])        NaN\n",
       "                          Equity(3194 [ZNGA])        NaN\n",
       "                          Equity(3195 [ZOES])        NaN\n",
       "                          Equity(3197 [ZTS])         NaN\n",
       "                          Equity(3198 [ZUMZ])        NaN"
      ]
     },
     "execution_count": 5,
     "metadata": {},
     "output_type": "execute_result"
    }
   ],
   "source": [
    "pipeline = Pipeline()\n",
    "ema = ExponentialWeightedMovingAverage.from_span(inputs=[USEquityPricing.close], span=50, window_length=229)\n",
    "pipeline.add( ema, 'ema50')\n",
    "%time dfzp=zpl_engine.run_pipeline(pipeline, start, end)\n",
    "dfzp.head(5).append(dfzp.tail(5))"
   ]
  },
  {
   "cell_type": "code",
   "execution_count": 7,
   "metadata": {},
   "outputs": [
    {
     "name": "stdout",
     "output_type": "stream",
     "text": [
      "8.43 s ± 49.6 ms per loop (mean ± std. dev. of 7 runs, 1 loop each)\n",
      "8.41 s ± 33.8 ms per loop (mean ± std. dev. of 10 runs, 3 loops each)\n"
     ]
    }
   ],
   "source": [
    "%timeit zpl_engine.run_pipeline(pipeline, start, end)\n",
    "%timeit -n 3 -r 10 zpl_engine.run_pipeline(pipeline, start, end)"
   ]
  },
  {
   "cell_type": "code",
   "execution_count": 8,
   "metadata": {},
   "outputs": [
    {
     "name": "stdout",
     "output_type": "stream",
     "text": [
      "Wall time: 9 s\n"
     ]
    },
    {
     "data": {
      "text/html": [
       "<div>\n",
       "<style scoped>\n",
       "    .dataframe tbody tr th:only-of-type {\n",
       "        vertical-align: middle;\n",
       "    }\n",
       "\n",
       "    .dataframe tbody tr th {\n",
       "        vertical-align: top;\n",
       "    }\n",
       "\n",
       "    .dataframe thead th {\n",
       "        text-align: right;\n",
       "    }\n",
       "</style>\n",
       "<table border=\"1\" class=\"dataframe\">\n",
       "  <thead>\n",
       "    <tr style=\"text-align: right;\">\n",
       "      <th></th>\n",
       "      <th></th>\n",
       "      <th>macd</th>\n",
       "    </tr>\n",
       "  </thead>\n",
       "  <tbody>\n",
       "    <tr>\n",
       "      <th rowspan=\"5\" valign=\"top\">2013-01-03 00:00:00+00:00</th>\n",
       "      <th>Equity(0 [A])</th>\n",
       "      <td>0.848136</td>\n",
       "    </tr>\n",
       "    <tr>\n",
       "      <th>Equity(2 [AAL])</th>\n",
       "      <td>0.192983</td>\n",
       "    </tr>\n",
       "    <tr>\n",
       "      <th>Equity(3 [AAMC])</th>\n",
       "      <td>NaN</td>\n",
       "    </tr>\n",
       "    <tr>\n",
       "      <th>Equity(4 [AAN])</th>\n",
       "      <td>-0.252407</td>\n",
       "    </tr>\n",
       "    <tr>\n",
       "      <th>Equity(6 [AAON])</th>\n",
       "      <td>-0.157562</td>\n",
       "    </tr>\n",
       "    <tr>\n",
       "      <th rowspan=\"5\" valign=\"top\">2018-01-03 00:00:00+00:00</th>\n",
       "      <th>Equity(3190 [ZIXI])</th>\n",
       "      <td>0.014607</td>\n",
       "    </tr>\n",
       "    <tr>\n",
       "      <th>Equity(3194 [ZNGA])</th>\n",
       "      <td>0.011381</td>\n",
       "    </tr>\n",
       "    <tr>\n",
       "      <th>Equity(3195 [ZOES])</th>\n",
       "      <td>0.516721</td>\n",
       "    </tr>\n",
       "    <tr>\n",
       "      <th>Equity(3197 [ZTS])</th>\n",
       "      <td>0.245217</td>\n",
       "    </tr>\n",
       "    <tr>\n",
       "      <th>Equity(3198 [ZUMZ])</th>\n",
       "      <td>0.228844</td>\n",
       "    </tr>\n",
       "  </tbody>\n",
       "</table>\n",
       "</div>"
      ],
      "text/plain": [
       "                                                   macd\n",
       "2013-01-03 00:00:00+00:00 Equity(0 [A])        0.848136\n",
       "                          Equity(2 [AAL])      0.192983\n",
       "                          Equity(3 [AAMC])          NaN\n",
       "                          Equity(4 [AAN])     -0.252407\n",
       "                          Equity(6 [AAON])    -0.157562\n",
       "2018-01-03 00:00:00+00:00 Equity(3190 [ZIXI])  0.014607\n",
       "                          Equity(3194 [ZNGA])  0.011381\n",
       "                          Equity(3195 [ZOES])  0.516721\n",
       "                          Equity(3197 [ZTS])   0.245217\n",
       "                          Equity(3198 [ZUMZ])  0.228844"
      ]
     },
     "execution_count": 8,
     "metadata": {},
     "output_type": "execute_result"
    }
   ],
   "source": [
    "from zipline.pipeline.factors import MovingAverageConvergenceDivergenceSignal\n",
    "pipeline = Pipeline()\n",
    "macd = MovingAverageConvergenceDivergenceSignal()\n",
    "pipeline.add( macd, 'macd')\n",
    "%time dfzp=zpl_engine.run_pipeline(pipeline, start, end)\n",
    "dfzp.head(5).append(dfzp.tail(5))"
   ]
  },
  {
   "cell_type": "code",
   "execution_count": 9,
   "metadata": {},
   "outputs": [
    {
     "name": "stdout",
     "output_type": "stream",
     "text": [
      "8.53 s ± 31.6 ms per loop (mean ± std. dev. of 7 runs, 1 loop each)\n",
      "8.6 s ± 78.2 ms per loop (mean ± std. dev. of 10 runs, 3 loops each)\n"
     ]
    }
   ],
   "source": [
    "%timeit zpl_engine.run_pipeline(pipeline, start, end)\n",
    "%timeit -n 3 -r 10 zpl_engine.run_pipeline(pipeline, start, end)"
   ]
  },
  {
   "cell_type": "code",
   "execution_count": 18,
   "metadata": {},
   "outputs": [
    {
     "name": "stdout",
     "output_type": "stream",
     "text": [
      "Wall time: 3.99 s\n"
     ]
    },
    {
     "data": {
      "text/html": [
       "<div>\n",
       "<style scoped>\n",
       "    .dataframe tbody tr th:only-of-type {\n",
       "        vertical-align: middle;\n",
       "    }\n",
       "\n",
       "    .dataframe tbody tr th {\n",
       "        vertical-align: top;\n",
       "    }\n",
       "\n",
       "    .dataframe thead th {\n",
       "        text-align: right;\n",
       "    }\n",
       "</style>\n",
       "<table border=\"1\" class=\"dataframe\">\n",
       "  <thead>\n",
       "    <tr style=\"text-align: right;\">\n",
       "      <th></th>\n",
       "      <th></th>\n",
       "      <th>f</th>\n",
       "    </tr>\n",
       "  </thead>\n",
       "  <tbody>\n",
       "    <tr>\n",
       "      <th rowspan=\"5\" valign=\"top\">2013-01-03 00:00:00+00:00</th>\n",
       "      <th>Equity(0 [A])</th>\n",
       "      <td>-0.876096</td>\n",
       "    </tr>\n",
       "    <tr>\n",
       "      <th>Equity(2 [AAL])</th>\n",
       "      <td>0.617828</td>\n",
       "    </tr>\n",
       "    <tr>\n",
       "      <th>Equity(3 [AAMC])</th>\n",
       "      <td>-1.500439</td>\n",
       "    </tr>\n",
       "    <tr>\n",
       "      <th>Equity(4 [AAN])</th>\n",
       "      <td>-0.449599</td>\n",
       "    </tr>\n",
       "    <tr>\n",
       "      <th>Equity(6 [AAON])</th>\n",
       "      <td>-0.005331</td>\n",
       "    </tr>\n",
       "    <tr>\n",
       "      <th rowspan=\"5\" valign=\"top\">2018-01-03 00:00:00+00:00</th>\n",
       "      <th>Equity(3190 [ZIXI])</th>\n",
       "      <td>1.453257</td>\n",
       "    </tr>\n",
       "    <tr>\n",
       "      <th>Equity(3194 [ZNGA])</th>\n",
       "      <td>1.488547</td>\n",
       "    </tr>\n",
       "    <tr>\n",
       "      <th>Equity(3195 [ZOES])</th>\n",
       "      <td>0.867437</td>\n",
       "    </tr>\n",
       "    <tr>\n",
       "      <th>Equity(3197 [ZTS])</th>\n",
       "      <td>-0.959192</td>\n",
       "    </tr>\n",
       "    <tr>\n",
       "      <th>Equity(3198 [ZUMZ])</th>\n",
       "      <td>0.603465</td>\n",
       "    </tr>\n",
       "  </tbody>\n",
       "</table>\n",
       "</div>"
      ],
      "text/plain": [
       "                                                      f\n",
       "2013-01-03 00:00:00+00:00 Equity(0 [A])       -0.876096\n",
       "                          Equity(2 [AAL])      0.617828\n",
       "                          Equity(3 [AAMC])    -1.500439\n",
       "                          Equity(4 [AAN])     -0.449599\n",
       "                          Equity(6 [AAON])    -0.005331\n",
       "2018-01-03 00:00:00+00:00 Equity(3190 [ZIXI])  1.453257\n",
       "                          Equity(3194 [ZNGA])  1.488547\n",
       "                          Equity(3195 [ZOES])  0.867437\n",
       "                          Equity(3197 [ZTS])  -0.959192\n",
       "                          Equity(3198 [ZUMZ])  0.603465"
      ]
     },
     "execution_count": 18,
     "metadata": {},
     "output_type": "execute_result"
    }
   ],
   "source": [
    "pipeline = Pipeline()\n",
    "f = SimpleMovingAverage(inputs=[USEquityPricing.close], window_length=5) - \\\n",
    "    SimpleMovingAverage(inputs=[USEquityPricing.close], window_length=10)- \\\n",
    "    SimpleMovingAverage(inputs=[USEquityPricing.close], window_length=30)\n",
    "pipeline.add( f.rank().zscore(), 'f')\n",
    "%time dfzp=zpl_engine.run_pipeline(pipeline, start, end)\n",
    "dfzp.head(5).append(dfzp.tail(5))"
   ]
  },
  {
   "cell_type": "code",
   "execution_count": null,
   "metadata": {},
   "outputs": [],
   "source": []
  },
  {
   "cell_type": "code",
   "execution_count": null,
   "metadata": {},
   "outputs": [],
   "source": []
  },
  {
   "cell_type": "code",
   "execution_count": null,
   "metadata": {},
   "outputs": [],
   "source": []
  },
  {
   "cell_type": "code",
   "execution_count": null,
   "metadata": {},
   "outputs": [],
   "source": []
  },
  {
   "cell_type": "code",
   "execution_count": null,
   "metadata": {},
   "outputs": [],
   "source": []
  },
  {
   "cell_type": "code",
   "execution_count": null,
   "metadata": {},
   "outputs": [],
   "source": []
  },
  {
   "cell_type": "code",
   "execution_count": null,
   "metadata": {},
   "outputs": [],
   "source": []
  },
  {
   "cell_type": "code",
   "execution_count": null,
   "metadata": {},
   "outputs": [],
   "source": []
  },
  {
   "cell_type": "code",
   "execution_count": null,
   "metadata": {},
   "outputs": [],
   "source": []
  },
  {
   "cell_type": "code",
   "execution_count": null,
   "metadata": {},
   "outputs": [],
   "source": []
  },
  {
   "cell_type": "code",
   "execution_count": null,
   "metadata": {},
   "outputs": [],
   "source": []
  },
  {
   "cell_type": "code",
   "execution_count": null,
   "metadata": {},
   "outputs": [],
   "source": []
  }
 ],
 "metadata": {
  "kernelspec": {
   "display_name": "Python [conda env:zipline]",
   "language": "python",
   "name": "conda-env-zipline-py"
  },
  "language_info": {
   "codemirror_mode": {
    "name": "ipython",
    "version": 3
   },
   "file_extension": ".py",
   "mimetype": "text/x-python",
   "name": "python",
   "nbconvert_exporter": "python",
   "pygments_lexer": "ipython3",
   "version": "3.5.6"
  }
 },
 "nbformat": 4,
 "nbformat_minor": 4
}
